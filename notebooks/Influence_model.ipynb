{
 "cells": [
  {
   "cell_type": "markdown",
   "metadata": {},
   "source": [
    "# Prestige Bias model"
   ]
  },
  {
   "cell_type": "code",
   "execution_count": 330,
   "metadata": {
    "ExecuteTime": {
     "end_time": "2022-04-06T12:34:11.734551Z",
     "start_time": "2022-04-06T12:34:11.724537Z"
    },
    "init_cell": true
   },
   "outputs": [],
   "source": [
    "%matplotlib inline\n",
    "import numpy as np\n",
    "import pandas as pd\n",
    "import matplotlib.pyplot as plt\n",
    "from scipy import stats\n",
    "from numba import jit\n",
    "from scipy import interpolate\n",
    "from scipy import optimize\n",
    "from scipy import special\n",
    "from scipy import signal\n",
    "import random\n",
    "import scipy.stats as st\n",
    "import gc\n",
    "from scipy.integrate import quad \n",
    "from scipy import optimize"
   ]
  },
  {
   "cell_type": "code",
   "execution_count": 331,
   "metadata": {
    "ExecuteTime": {
     "end_time": "2022-04-06T12:34:11.821470Z",
     "start_time": "2022-04-06T12:34:11.737787Z"
    },
    "init_cell": true
   },
   "outputs": [
    {
     "data": {
      "text/plain": [
       "(10000,)"
      ]
     },
     "execution_count": 331,
     "metadata": {},
     "output_type": "execute_result"
    }
   ],
   "source": [
    "N = 10000 # generation size\n",
    "A = np.random.normal(0, 1, size=N)\n",
    "A.shape"
   ]
  },
  {
   "cell_type": "code",
   "execution_count": 332,
   "metadata": {
    "ExecuteTime": {
     "end_time": "2022-04-06T12:34:12.097890Z",
     "start_time": "2022-04-06T12:34:11.824939Z"
    },
    "init_cell": true
   },
   "outputs": [
    {
     "data": {
      "image/png": "[encoded data removed]",
      "text/plain": [
       "<Figure size 432x288 with 1 Axes>"
      ]
     },
     "metadata": {
      "needs_background": "light"
     },
     "output_type": "display_data"
    }
   ],
   "source": [
    "plt.plot(A,label='indicator')\n",
    "plt.xlabel('role-model ID')\n",
    "plt.ylabel('trait value')\n",
    "plt.title('role-models traits')\n",
    "plt.show()"
   ]
  },
  {
   "cell_type": "code",
   "execution_count": 372,
   "metadata": {
    "ExecuteTime": {
     "end_time": "2022-04-07T07:03:55.797121Z",
     "start_time": "2022-04-07T07:03:55.791209Z"
    },
    "init_cell": true
   },
   "outputs": [
    {
     "name": "stdout",
     "output_type": "stream",
     "text": [
      "b=1\tJ=1\tA_hat=1\t alpha=0.50\n"
     ]
    }
   ],
   "source": [
    "b,J = 1,1\n",
    "A_hat = 1\n",
    "alpha = 0.5\n",
    "\n",
    "print(f'b={b}\\tJ={J}\\tA_hat={A_hat}\\t alpha={alpha:.2f}')"
   ]
  },
  {
   "cell_type": "code",
   "execution_count": 334,
   "metadata": {
    "ExecuteTime": {
     "end_time": "2022-04-06T12:34:12.187343Z",
     "start_time": "2022-04-06T12:34:12.109807Z"
    },
    "init_cell": true
   },
   "outputs": [],
   "source": [
    "def bias(traits,b=b,J=J,A_hat=A_hat):\n",
    "    return b * np.exp(-(((A_hat - traits) ** 2) / (2*J)))\n",
    "\n",
    "def probability_err(p,n):\n",
    "    return 2*1.96*np.sqrt((p*(1-p))/n)\n",
    "\n",
    "def influence_bias(traits,b,J,success_correlated=True):\n",
    "    inf_bias = bias(traits,b,J)\n",
    "    return inf_bias if success_correlated else (1-inf_bias)\n",
    "    \n",
    "def is_converging(mean,var,conv_val=A_hat,mean_tol=0.01,var_tol=0.007):\n",
    "    return np.abs(mean-conv_val) <= mean_tol and var <= var_tol\n",
    "\n",
    "def mean_distance_from_opt(arr,opt=A_hat):\n",
    "    return ((arr-opt)**2).mean()\n",
    "\n",
    "def get_convergence_index(arr,n=5):\n",
    "    count = 0\n",
    "    for index,val in enumerate(arr):\n",
    "        if val:\n",
    "            count += 1\n",
    "        else:\n",
    "            count = 0\n",
    "        if count == n:\n",
    "            return index-n   \n",
    "    \n",
    "\n",
    "def plot_model(data):\n",
    "    fig, ax = plt.subplots()\n",
    "    binary = len(data.shape)==1\n",
    "\n",
    "    if binary:\n",
    "        data = data[~np.isnan(data)]\n",
    "        \n",
    "        window = min(len(data),51)\n",
    "        window = window - 1 if window%2 == 0 else window\n",
    "        \n",
    "        smoothed_data = signal.savgol_filter(data,window,5)\n",
    "        \n",
    "        ax.plot(range(len(data)),smoothed_data,label='indicator freq')\n",
    "    else:\n",
    "        ax.plot((0,len(data.shape[1])),(A_hat,A_hat),label='A_hat',linestyle='--')"
   ]
  },
  {
   "cell_type": "markdown",
   "metadata": {},
   "source": [
    "## Influence advantage"
   ]
  },
  {
   "cell_type": "code",
   "execution_count": 433,
   "metadata": {
    "ExecuteTime": {
     "end_time": "2022-04-09T13:05:34.359166Z",
     "start_time": "2022-04-09T13:05:34.079941Z"
    }
   },
   "outputs": [
    {
     "data": {
      "image/png": "[encoded data removed]",
      "text/plain": [
       "<Figure size 432x288 with 1 Axes>"
      ]
     },
     "metadata": {
      "needs_background": "light"
     },
     "output_type": "display_data"
    }
   ],
   "source": [
    "def find_opt(alpha, traits, K):\n",
    "    alpha=alpha[0]\n",
    "    if alpha < 0 or alpha > 1:\n",
    "        return -np.inf\n",
    "    prestige = traits*alpha + (1-alpha)*K\n",
    "    prestige /= prestige.sum()\n",
    "    val = np.average(traits, weights = prestige)\n",
    "    res = (A_hat-val)**2\n",
    "    return res\n",
    "\n",
    "\n",
    "def choose_influence(A_,eta):\n",
    "    e = np.random.normal(0, scale = eta, size=len(A_))\n",
    "    K = np.zeros(len(A_))\n",
    "    alphas = []\n",
    "    outs = []\n",
    "    for i in range(len(A_)):\n",
    "        biased_A = bias(A_,b,J,A_hat)+e[i]\n",
    "\n",
    "        alpha,out,*_ = optimize.brute(find_opt,[(0.00001,1)],args=(biased_A,K),disp=False,full_output=True,\n",
    "                                     finish=None)\n",
    "        alphas.append(alpha)\n",
    "        outs.append(out)\n",
    "        prestige = A_*alpha + (1-alpha)*K\n",
    "        prestige /= prestige.sum()\n",
    "        K += prestige\n",
    "        \n",
    "    return alphas,outs\n",
    "\n",
    "A_ = np.random.normal(0,1, size=100)\n",
    "alphas,outs = choose_influence(A_,0.1)\n",
    "plt.xlabel('copiers')\n",
    "plt.ylabel('alpha')\n",
    "plt.plot(range(len(alphas)),alphas);\n",
    "plt.savefig('../figures/choose_alpha_100.pdf')\n",
    "# plt.plot(range(len(alphas)),outs);"
   ]
  },
  {
   "cell_type": "markdown",
   "metadata": {},
   "source": [
    "## Numeric validation"
   ]
  },
  {
   "cell_type": "code",
   "execution_count": 336,
   "metadata": {
    "ExecuteTime": {
     "end_time": "2022-04-06T12:34:12.614450Z",
     "start_time": "2022-04-06T12:34:12.606027Z"
    }
   },
   "outputs": [],
   "source": [
    "def single_DM_generation(A_,alpha,mutation=None):\n",
    "    alpha_tag = alpha/(1-alpha)\n",
    "    if mutation:\n",
    "        A_ += np.random.normal(0, scale = mutation, size=len(A_))\n",
    "    prestige = bias(A_,b,J,A_hat)*alpha_tag\n",
    "    dist = np.random.dirichlet(prestige)\n",
    "    K = np.random.multinomial(len(A_),dist)\n",
    "    return K\n",
    "\n",
    "\n",
    "def single_GT_generation(A_,alpha,mutation=None):\n",
    "    if mutation:\n",
    "        A_ += np.random.normal(0, scale = mutation, size=len(A_))\n",
    "    biased_A = bias(A_,b,J,A_hat)*alpha\n",
    "    K = np.zeros(len(A_))\n",
    "    for _ in range(len(A_)):\n",
    "        prestige = biased_A + (1-alpha)*K\n",
    "        prestige /= prestige.sum()\n",
    "        chosen_role_model = np.searchsorted(prestige.cumsum(),np.random.rand())\n",
    "        K[chosen_role_model] += 1\n",
    "    \n",
    "    return K\n",
    "    \n",
    "    \n",
    "def get_bias(A_,alpha=None):\n",
    "    if alpha:\n",
    "        alpha_tag = alpha/(1-alpha)\n",
    "        biased = bias(A_,b,J,A_hat)*alpha_tag\n",
    "    else:\n",
    "        biased = bias(A_,b,J,A_hat)\n",
    "        \n",
    "    return biased/biased.sum()\n",
    "    \n",
    "    \n",
    "def get_expected(A_,alpha):\n",
    "    alpha_tag = alpha/(1-alpha)\n",
    "    prestige = bias(A_,b,J,A_hat)*alpha_tag\n",
    "    prestige /= prestige.sum()\n",
    "    K = len(A_)*prestige\n",
    "    return K\n",
    "\n",
    "\n",
    "def chi_squared_p_val(o,e):\n",
    "    return stats.chisquare(o,e)[1]"
   ]
  },
  {
   "cell_type": "code",
   "execution_count": 337,
   "metadata": {
    "ExecuteTime": {
     "end_time": "2022-04-06T12:35:06.402805Z",
     "start_time": "2022-04-06T12:34:12.617247Z"
    }
   },
   "outputs": [],
   "source": [
    "p_vals = []\n",
    "dists = []\n",
    "A_ = np.random.normal(0,1, size=2000)\n",
    "alpha = 0.1\n",
    "mutation = 0\n",
    "E = get_expected(A_.copy(),alpha)\n",
    "m = 1000\n",
    "for i in range(m):\n",
    "    o_GT = single_GT_generation(A_.copy(),alpha,mutation)\n",
    "    dists.append(o_GT)\n",
    "    _,p_val = stats.chisquare(o_GT,E)\n",
    "    p_vals.append(p_val)\n",
    "    \n",
    "dists_avg = np.array(dists).mean(axis=0)"
   ]
  },
  {
   "cell_type": "markdown",
   "metadata": {},
   "source": [
    "### DM"
   ]
  },
  {
   "cell_type": "code",
   "execution_count": 338,
   "metadata": {
    "ExecuteTime": {
     "end_time": "2022-04-06T12:35:06.409326Z",
     "start_time": "2022-04-06T12:35:06.405002Z"
    }
   },
   "outputs": [
    {
     "name": "stdout",
     "output_type": "stream",
     "text": [
      "the p value of the average distribution of 1000 simulations is: 1.0\n"
     ]
    }
   ],
   "source": [
    "p_val = chi_squared_p_val(dists_avg,E)\n",
    "print(f'the p value of the average distribution of {m} simulations is: {p_val}')"
   ]
  },
  {
   "cell_type": "markdown",
   "metadata": {},
   "source": [
    "### GBD"
   ]
  },
  {
   "cell_type": "code",
   "execution_count": 339,
   "metadata": {
    "ExecuteTime": {
     "end_time": "2022-04-06T12:35:06.907385Z",
     "start_time": "2022-04-06T12:35:06.411054Z"
    }
   },
   "outputs": [
    {
     "data": {
      "image/png": "[encoded data removed]",
      "text/plain": [
       "<Figure size 432x288 with 1 Axes>"
      ]
     },
     "metadata": {
      "needs_background": "light"
     },
     "output_type": "display_data"
    }
   ],
   "source": [
    "mod_dists = dists_avg.copy()\n",
    "mod_dists[mod_dists>E.max()]=E.max()\n",
    "\n",
    "plt.xlabel('Expected number of copiers')\n",
    "plt.ylabel('Number of role-models')\n",
    "plt.hist(E,bins=50)\n",
    "plt.hist(mod_dists,bins=50,alpha=0.4)\n",
    "plt.savefig('../figures/GBD_validation.pdf')"
   ]
  },
  {
   "cell_type": "markdown",
   "metadata": {},
   "source": [
    "### Validations"
   ]
  },
  {
   "cell_type": "code",
   "execution_count": 340,
   "metadata": {
    "ExecuteTime": {
     "end_time": "2022-04-06T12:35:06.913176Z",
     "start_time": "2022-04-06T12:35:06.909029Z"
    }
   },
   "outputs": [
    {
     "name": "stdout",
     "output_type": "stream",
     "text": [
      "the p value of the expected uniform distribution is: 0.0\n"
     ]
    }
   ],
   "source": [
    "p_val = chi_squared_p_val(np.ones(len(A_)),E)\n",
    "print(f'the p value of the expected uniform distribution is: {p_val}')"
   ]
  },
  {
   "cell_type": "code",
   "execution_count": 341,
   "metadata": {
    "ExecuteTime": {
     "end_time": "2022-04-06T12:35:07.015273Z",
     "start_time": "2022-04-06T12:35:06.914854Z"
    }
   },
   "outputs": [
    {
     "name": "stdout",
     "output_type": "stream",
     "text": [
      "the p value of the expected multinomial distribution is: 0.0\n"
     ]
    }
   ],
   "source": [
    "rv = stats.multinomial(len(A_),get_bias(A_,alpha))\n",
    "p_val = chi_squared_p_val(dists[87],E)\n",
    "print(f'the p value of the expected multinomial distribution is: {p_val}')"
   ]
  },
  {
   "cell_type": "markdown",
   "metadata": {},
   "source": [
    "## Dirichlet Approximation Model"
   ]
  },
  {
   "cell_type": "code",
   "execution_count": 342,
   "metadata": {
    "ExecuteTime": {
     "end_time": "2022-04-06T12:35:07.084261Z",
     "start_time": "2022-04-06T12:35:07.016826Z"
    },
    "init_cell": true
   },
   "outputs": [],
   "source": [
    "@jit(nopython=True)\n",
    "def make_array_from_copiers(K,original):\n",
    "    new_arr = np.zeros(len(K))\n",
    "    i=0\n",
    "    for index,copiers in enumerate(K):\n",
    "        for _ in range(int(copiers)):\n",
    "            new_arr[i]= original[index]\n",
    "            i= i+ 1\n",
    "    return new_arr"
   ]
  },
  {
   "cell_type": "code",
   "execution_count": 343,
   "metadata": {
    "ExecuteTime": {
     "end_time": "2022-04-06T12:35:07.205457Z",
     "start_time": "2022-04-06T12:35:07.087300Z"
    },
    "init_cell": true
   },
   "outputs": [],
   "source": [
    "def prestige_dirichlet(A_,m=1000,binary=False,mutation_scale=0,\n",
    "                       b=b,J=J,alpha=0.5,A_hat=A_hat,conv_tol=0,k=None,l=None):\n",
    "    B_hat = A_[A_!=A_hat][0]\n",
    "    np.random.seed()\n",
    "    if binary:\n",
    "        p = np.empty(m)\n",
    "    else:    \n",
    "        p = np.empty((2,m))\n",
    "    p[:] = np.nan\n",
    "    \n",
    "    i=0\n",
    "    while True:\n",
    "        if binary and not np.isnan(p[-1]):\n",
    "            addition = np.empty(m)\n",
    "            addition[:] = np.nan\n",
    "            p = np.array(list(p)+ list(addition))\n",
    "        if binary:\n",
    "            p[i]=len(A_[A_==A_hat])/len(A_)\n",
    "        else:\n",
    "            p[0,i]=A_.mean()\n",
    "            p[1,i]=A_.var()\n",
    "        \n",
    "        A_converge = (np.abs(A_-A_[0]) <= conv_tol).all()\n",
    "        if A_converge:\n",
    "            break\n",
    "        \n",
    "        if mutation_scale > 0 and not binary:\n",
    "            A_ += np.random.normal(0, scale = mutation_scale, size=len(A_))\n",
    "        \n",
    "        alpha_tag = alpha/(1-alpha)\n",
    "        if k and i%(k+l)>k:\n",
    "            prestige = bias(A_,b,J,B_hat)*alpha_tag\n",
    "        else:\n",
    "            prestige = bias(A_,b,J,A_hat)*alpha_tag\n",
    "        \n",
    "        dist = np.random.dirichlet(prestige)\n",
    "        K = np.random.multinomial(len(A_),dist)\n",
    "        A_ = make_array_from_copiers(K,A_)\n",
    "        i += 1\n",
    "    \n",
    "    return p"
   ]
  },
  {
   "cell_type": "markdown",
   "metadata": {},
   "source": [
    "### Test binary model"
   ]
  },
  {
   "cell_type": "code",
   "execution_count": 344,
   "metadata": {
    "ExecuteTime": {
     "end_time": "2022-04-06T12:35:08.212728Z",
     "start_time": "2022-04-06T12:35:07.207620Z"
    }
   },
   "outputs": [
    {
     "data": {
      "image/png": "[encoded data removed]",
      "text/plain": [
       "<Figure size 432x288 with 1 Axes>"
      ]
     },
     "metadata": {
      "needs_background": "light"
     },
     "output_type": "display_data"
    }
   ],
   "source": [
    "A_ = np.zeros(1000)\n",
    "A_[:100] = A_hat\n",
    "A_[A_==0] = A_hat*0.9\n",
    "data = prestige_dirichlet(A_,binary=True,J=1)\n",
    "plot_model(data)"
   ]
  },
  {
   "cell_type": "code",
   "execution_count": 345,
   "metadata": {
    "ExecuteTime": {
     "end_time": "2022-04-06T12:35:08.355970Z",
     "start_time": "2022-04-06T12:35:08.214361Z"
    }
   },
   "outputs": [
    {
     "data": {
      "image/png": "[encoded data removed]",
      "text/plain": [
       "<Figure size 432x288 with 1 Axes>"
      ]
     },
     "metadata": {
      "needs_background": "light"
     },
     "output_type": "display_data"
    }
   ],
   "source": [
    "A_ = np.zeros(1000)\n",
    "A_[:100] = A_hat\n",
    "A_[A_==0] = A_hat*0.9\n",
    "data = prestige_dirichlet(A_,binary=True,J=1,k=100,l=10)\n",
    "plot_model(data)"
   ]
  },
  {
   "cell_type": "markdown",
   "metadata": {},
   "source": [
    "## GT model"
   ]
  },
  {
   "cell_type": "markdown",
   "metadata": {},
   "source": [
    "### Binary model"
   ]
  },
  {
   "cell_type": "code",
   "execution_count": 346,
   "metadata": {
    "ExecuteTime": {
     "end_time": "2022-04-06T12:35:08.365449Z",
     "start_time": "2022-04-06T12:35:08.357589Z"
    },
    "init_cell": true
   },
   "outputs": [],
   "source": [
    "def binary_GT_model(A_,m=1000,b=b,J=J,alpha=alpha,A_hat=A_hat,conv_tol=0):\n",
    "    np.random.seed()\n",
    "    \n",
    "    p = np.empty(m)\n",
    "    p[:] = np.nan\n",
    "    \n",
    "    i = 0\n",
    "    while True:\n",
    "        if not np.isnan(p[-1]):\n",
    "            addition = np.empty(m)\n",
    "            addition[:] = np.nan\n",
    "            p = np.array(list(p)+ list(addition))\n",
    "        \n",
    "        p[i]=len(A_[A_==A_hat])/len(A_)\n",
    "        \n",
    "        A_converge = (np.abs(A_-A_[0]) <= conv_tol).all()\n",
    "        if A_converge:\n",
    "            break\n",
    "            \n",
    "        new_A = []\n",
    "        copiers = np.random.rand(len(A_))\n",
    "        K = np.zeros(len(A_))\n",
    "        for j in range(len(A_)):\n",
    "            if isinstance(J,(list,np.ndarray)):\n",
    "                biased_A = bias(A_,b,J[j])*alpha\n",
    "            else:\n",
    "                biased_A = bias(A_,b,J)*alpha\n",
    "                \n",
    "            prestige = biased_A + (1-alpha)*K\n",
    "            prestige /= prestige.sum()\n",
    "            chosen_role_model = np.searchsorted(prestige.cumsum(),copiers[j])\n",
    "            K[chosen_role_model] += 1\n",
    "            new_A.append(A_[chosen_role_model])\n",
    "        A_ = np.array(new_A)\n",
    "        i+=1\n",
    "        \n",
    "    return p"
   ]
  },
  {
   "cell_type": "code",
   "execution_count": 354,
   "metadata": {
    "ExecuteTime": {
     "end_time": "2022-04-06T12:43:41.028859Z",
     "start_time": "2022-04-06T12:43:40.832033Z"
    }
   },
   "outputs": [
    {
     "data": {
      "image/png": "[encoded data removed]",
      "text/plain": [
       "<Figure size 432x288 with 1 Axes>"
      ]
     },
     "metadata": {
      "needs_background": "light"
     },
     "output_type": "display_data"
    }
   ],
   "source": [
    "A_ = np.zeros(100)\n",
    "A_[:20] = A_hat\n",
    "A_[A_==0] = A_hat - 1e-8\n",
    "data = binary_GT_model(A_,J=1)\n",
    "plot_model(data)"
   ]
  },
  {
   "cell_type": "markdown",
   "metadata": {},
   "source": [
    "### Continous model"
   ]
  },
  {
   "cell_type": "raw",
   "metadata": {
    "ExecuteTime": {
     "end_time": "2021-04-26T13:04:32.035114Z",
     "start_time": "2021-04-26T13:04:32.018551Z"
    },
    "init_cell": true
   },
   "source": [
    "def GT_model(A_,B_,m=1000,use_mutation=True,mutation_scale=0.01,b=b,J=J,alpha=alpha):\n",
    "    np.random.seed()\n",
    "    df = pd.DataFrame(columns=df_columns)\n",
    "    copiers = np.random.rand(m,len(A_))\n",
    "    for i in range(m):\n",
    "        E_A,E_B = generate_traits(std = 0.01,size=len(A_))\n",
    "        estimated_A = A_.reshape(-1,1) + E_A\n",
    "        estimated_B = B_.reshape(-1,1) + E_B\n",
    "        biased_A = bias(estimated_A)*alpha\n",
    "        K = np.zeros(len(A_))\n",
    "        new_A,new_B = [],[]\n",
    "        for j in range(len(A_)):\n",
    "            current_biased_A = biased_A[:,j]\n",
    "            prestige = current_biased_A + (1-alpha)*K\n",
    "            prestige /= prestige.sum()\n",
    "            chosen_role_model = np.searchsorted(prestige.cumsum(),copiers[i][j])\n",
    "            K[chosen_role_model] += 1\n",
    "            new_A.append(A_[chosen_role_model])\n",
    "            new_B.append(B_[chosen_role_model])    \n",
    "        A_ = np.array(new_A)\n",
    "        B_ = np.array(new_B)\n",
    "        generation_data = get_generation_data(i+1,A_,B_)\n",
    "\n",
    "        df = df.append(generation_data, ignore_index=True)  \n",
    "        \n",
    "    mean_distances = (mean_distance_from_opt(A_),mean_distance_from_opt(B_))\n",
    "    conv_ind = get_convergence_index(df[df['Type'] == 'Indicator']['Converging'].values)\n",
    "    return df,mean_distances,conv_ind\n",
    "\n",
    "data,msds,conv_ind = GT_model(A[:20].copy(),B[:20].copy())\n",
    "# plot_model(data,conv_ind)\n",
    "data.tail()"
   ]
  },
  {
   "cell_type": "markdown",
   "metadata": {},
   "source": [
    "# Parallel computing"
   ]
  },
  {
   "cell_type": "code",
   "execution_count": 355,
   "metadata": {
    "ExecuteTime": {
     "end_time": "2022-04-06T12:43:48.989168Z",
     "start_time": "2022-04-06T12:43:48.942837Z"
    },
    "init_cell": true
   },
   "outputs": [],
   "source": [
    "from concurrent.futures import ProcessPoolExecutor\n",
    "from concurrent.futures import as_completed\n",
    "from functools import partial\n",
    "\n",
    "\n",
    "def compute_model_parallel(A_,model,reps=100,max_workers=None):\n",
    "    futures = []\n",
    "    with ProcessPoolExecutor(max_workers) as executor:\n",
    "        for _ in range(int(reps)):\n",
    "            f = executor.submit(model,A_.copy())\n",
    "            futures.append(f)\n",
    "\n",
    "    results = []\n",
    "    for data in as_completed(futures): \n",
    "        results.append(data.result())\n",
    "    \n",
    "    return results \n",
    "\n",
    "def gt_binary_model_parallel(A_,reps=100,b=b,J=J,alpha=alpha,max_workers=10):\n",
    "    fixed_model = partial(binary_GT_model,b=b,J=J,alpha=alpha,A_hat=A_hat)\n",
    "    return compute_model_parallel(A_,fixed_model,reps,max_workers=max_workers)\n",
    "    \n",
    "def dirichlet_model_parallel(A_,reps=100,binary=True,mutation_scale=0,conv_tol=0,b=b,J=J,alpha=alpha\n",
    "                             ,k=None,l=None,max_workers=10):\n",
    "    fixed_model = partial(prestige_dirichlet,binary=binary,mutation_scale=mutation_scale,\n",
    "                          conv_tol=conv_tol,b=b,J=J,alpha=alpha,k=k,l=l)\n",
    "    return compute_model_parallel(A_,fixed_model,reps,max_workers=max_workers) "
   ]
  },
  {
   "cell_type": "markdown",
   "metadata": {},
   "source": [
    "## Continous model results aggregation"
   ]
  },
  {
   "cell_type": "raw",
   "metadata": {
    "ExecuteTime": {
     "end_time": "2021-09-28T08:17:11.870817Z",
     "start_time": "2021-09-28T08:17:11.769325Z"
    },
    "init_cell": true
   },
   "source": [
    "def aggregate_model_results(results):\n",
    "    dfs = []\n",
    "    convergence_indices = []\n",
    "    msds = []\n",
    "    for result in results: \n",
    "        df_,msd,conv_ind = result\n",
    "        dfs.append(df_)\n",
    "        msds.append(msd)\n",
    "        if conv_ind:\n",
    "            convergence_indices.append(conv_ind)\n",
    "        \n",
    "    # constracting mean results for the models\n",
    "    mean_df = pd.concat(dfs).groupby(level=0).mean()\n",
    "    mean_df['Generation']=dfs[0]['Generation']\n",
    "    mean_df['Type']=dfs[0]['Type']      \n",
    "\n",
    "    convergence_probability = len(convergence_indices)/len(results)\n",
    "    mean_conv_ind = 'Never converging'\n",
    "    if len(convergence_indices)>0:\n",
    "        mean_conv_ind = int(np.array(convergence_indices).mean())\n",
    "    mean_msds = np.array(msds).mean(axis=0)\n",
    "    \n",
    "    return mean_df,mean_msds,convergence_probability,mean_conv_ind"
   ]
  },
  {
   "cell_type": "markdown",
   "metadata": {},
   "source": [
    "### Test Dirichlet model"
   ]
  },
  {
   "cell_type": "raw",
   "metadata": {
    "scrolled": true
   },
   "source": [
    "results = dirichlet_model_parallel(A.copy(),B.copy(),reps=10)\n",
    "mean_df,mean_msds,conv_prob,mean_conv_ind = aggregate_model_results(results)\n",
    "\n",
    "plot_model(mean_df,mean_conv_ind)\n",
    "print(f'Mean indicator mean squared distance from optimum {mean_msds[0]}')\n",
    "print(f'Mean indirect mean squared distance from optimum {mean_msds[1]}')\n",
    "print(f'Convergence probability {conv_prob}')"
   ]
  },
  {
   "cell_type": "markdown",
   "metadata": {},
   "source": [
    "# Binary model"
   ]
  },
  {
   "cell_type": "code",
   "execution_count": 356,
   "metadata": {
    "ExecuteTime": {
     "end_time": "2022-04-06T12:43:51.314668Z",
     "start_time": "2022-04-06T12:43:51.303079Z"
    },
    "init_cell": true
   },
   "outputs": [],
   "source": [
    "def aggregate_binary_model_with_errors(res,A_hat,sample_size):\n",
    "    fixation_count = 0\n",
    "    fixation_gens = []\n",
    "    mean_growth_rate = 0\n",
    "    diffs = []\n",
    "    for arr in res:\n",
    "        arr = arr[~np.isnan(arr)]\n",
    "        if arr[-1]==1:\n",
    "            fixation_count += 1\n",
    "            fixation_gens.append(len(arr))\n",
    "            \n",
    "            diff = np.diff(arr).mean()\n",
    "            diffs.append(diff)\n",
    "        \n",
    "    fixation_gens = np.array(fixation_gens)\n",
    "    fixation_prob = fixation_count/len(res)\n",
    "    if fixation_prob == 0:\n",
    "        fixation_prob_err = 0\n",
    "        fixation_gen_mean = 0\n",
    "        fixation_gen_err = 0\n",
    "        mean_growth_rate = 0\n",
    "    else:    \n",
    "        fixation_prob_err = probability_err(fixation_prob,sample_size)\n",
    "        fixation_gen_mean = fixation_gens.mean()\n",
    "        fixation_conf = st.t.interval(0.95, len(fixation_gens)-1, loc=fixation_gen_mean, scale=st.sem(fixation_gens))\n",
    "        fixation_gen_err = (fixation_conf[1] - fixation_conf[0])/2\n",
    "        mean_growth_rate = np.array(diffs).mean()\n",
    "    \n",
    "    return fixation_prob,fixation_prob_err,fixation_gen_mean,fixation_gen_err,mean_growth_rate"
   ]
  },
  {
   "cell_type": "markdown",
   "metadata": {},
   "source": [
    "## Kimura's equations"
   ]
  },
  {
   "cell_type": "code",
   "execution_count": 357,
   "metadata": {
    "ExecuteTime": {
     "end_time": "2022-04-06T12:43:52.734775Z",
     "start_time": "2022-04-06T12:43:52.724434Z"
    }
   },
   "outputs": [],
   "source": [
    "def kimura(p0,s,N):\n",
    "    numer = 1 - np.exp(-2*s*N*p0)\n",
    "    denom = 1 - np.exp(-2*s*N)\n",
    "    return numer/denom\n",
    "\n",
    "\n",
    "def effective_population(N,alpha):\n",
    "    return alpha*N + (1-alpha)\n",
    "    \n",
    "\n",
    "def durret(x,alpha,beta,N):\n",
    "    Ne = effective_population(N,alpha)\n",
    "    numer = 1 - np.exp(-2*(1-beta)*Ne*x)\n",
    "    denom = 1 - np.exp(-2*(1-beta)*Ne)\n",
    "    return numer/denom\n",
    "\n",
    "\n",
    "def durret_change_env(x,alpha,s_n,N):\n",
    "    Ne = effective_population(N,alpha)\n",
    "    numer = 1 - np.exp(-2*s_n*Ne*x)\n",
    "    denom = 1 - np.exp(-2*s_n*Ne)\n",
    "    return numer/denom"
   ]
  },
  {
   "cell_type": "code",
   "execution_count": 358,
   "metadata": {
    "ExecuteTime": {
     "end_time": "2022-04-06T12:43:53.856363Z",
     "start_time": "2022-04-06T12:43:53.842377Z"
    }
   },
   "outputs": [],
   "source": [
    "def integral(f, N, s, a, b):\n",
    "    f = partial(f, N, s)    \n",
    "    return quad(f, a, b)[0]\n",
    "\n",
    "\n",
    "def I1(N, s, x):\n",
    "    if x == 1:\n",
    "        return 0\n",
    "    return (1 - np.exp(-2*N*s*x) - np.exp(-2 * N * s * (1 - x)) + np.exp(-2 * N *s)) / (x*(1-x))\n",
    "\n",
    "\n",
    "def I2(N, s, x):\n",
    "    if x == 0:\n",
    "        return 0\n",
    "    return -np.expm1(2 * N * s * x) * np.expm1(-2 * N * s * x) / (x * (1 - x))\n",
    "\n",
    "\n",
    "@np.vectorize\n",
    "def T_kimura(n0, N, s):\n",
    "    x = n0 / N\n",
    "    J1 = -1.0 / (s * np.expm1(-2 * N * s)) * integral(I1, N, s, x, 1)\n",
    "    u = np.expm1(-2 * N * s * x) / np.expm1(-2 * N * s)\n",
    "    J2 = -1.0 / (s * np.expm1(-2 * N *s)) * integral(I2, N, s, 0, x)\n",
    "    return J1 + ((1 - u) / u) * J2"
   ]
  },
  {
   "cell_type": "markdown",
   "metadata": {},
   "source": [
    "## Test models"
   ]
  },
  {
   "cell_type": "markdown",
   "metadata": {},
   "source": [
    "### Test Dirichlet model"
   ]
  },
  {
   "cell_type": "code",
   "execution_count": 359,
   "metadata": {
    "ExecuteTime": {
     "end_time": "2022-04-06T12:44:05.714627Z",
     "start_time": "2022-04-06T12:43:56.065615Z"
    }
   },
   "outputs": [
    {
     "name": "stdout",
     "output_type": "stream",
     "text": [
      "fixation probability and estimated error: 0.0346 \t 0.007164365991321214\n",
      "durret probability: 0.0346\n",
      "fixation growth rate and mean fixation time:0.0058 \t 181.63294797687863\n",
      "beta:0.9560\n"
     ]
    }
   ],
   "source": [
    "N = 1000\n",
    "p0 = 1e-3\n",
    "A = A_hat*0.7\n",
    "alpha = 0.4\n",
    "J=1\n",
    "A_ = np.zeros(N)\n",
    "A_[:int(p0*N)] = A_hat\n",
    "A_[A_==0] = A\n",
    "beta = bias(A,J=J,A_hat=A_hat)\n",
    "results = dirichlet_model_parallel(A_,reps=10000,binary=True,J=J,alpha=alpha,max_workers=30)\n",
    "\n",
    "aggregated_results = aggregate_binary_model_with_errors(results,A_hat,len(results))\n",
    "fixation_prob,fixation_prob_err,fixation_gen_mean,fixation_gen_err,growth_rate = aggregated_results\n",
    "\n",
    "print(f'fixation probability and estimated error: {fixation_prob} \\t {fixation_prob_err}')\n",
    "print(f'durret probability: {durret(p0,alpha,beta,N):.4f}')\n",
    "print(f'fixation growth rate and mean fixation time:{growth_rate:.4f} \\t {fixation_gen_mean}')\n",
    "print(f'beta:{beta:.4f}')"
   ]
  },
  {
   "cell_type": "markdown",
   "metadata": {},
   "source": [
    "### Test Wright-Fisher fixation probability"
   ]
  },
  {
   "cell_type": "code",
   "execution_count": 360,
   "metadata": {
    "ExecuteTime": {
     "end_time": "2022-04-06T12:44:06.851205Z",
     "start_time": "2022-04-06T12:44:05.716894Z"
    },
    "scrolled": true
   },
   "outputs": [
    {
     "name": "stdout",
     "output_type": "stream",
     "text": [
      "fixation probability and probability error: 0.0019\t0.0017\n",
      "kimura probability: 0.0020\n"
     ]
    }
   ],
   "source": [
    "def wf_fix_prob(n0, N, s, repetitions=10):\n",
    "    N = int(N)\n",
    "    n = np.repeat(n0, repetitions)\n",
    "    n[:] = n0 # broadcasting\n",
    "    update = (n > 0) & (n < N)\n",
    "    while update.any():\n",
    "        p = n * (1 + s) / (N + n * s)\n",
    "        n[update] = np.random.binomial(N, p[update])\n",
    "        update = (n > 0) & (n < N)\n",
    "    return (n == N).mean()\n",
    "\n",
    "\n",
    "N = 10000\n",
    "s = 1e-3\n",
    "p0 = 1e-4\n",
    "reps = 10000\n",
    "n0 = p0*N\n",
    "\n",
    "p = wf_fix_prob(n0, N, s, reps)\n",
    "print(f'fixation probability and probability error: {p}\\t{probability_err(p,N):.4f}')\n",
    "print(f'kimura probability: {kimura(p0,s,N):.4f}')"
   ]
  },
  {
   "cell_type": "markdown",
   "metadata": {},
   "source": [
    "### Test Wright-Fisher fixation time"
   ]
  },
  {
   "cell_type": "code",
   "execution_count": 361,
   "metadata": {
    "ExecuteTime": {
     "end_time": "2022-04-06T12:44:06.982709Z",
     "start_time": "2022-04-06T12:44:06.853198Z"
    }
   },
   "outputs": [
    {
     "name": "stdout",
     "output_type": "stream",
     "text": [
      "fixation time and error: 157.76\t\t\t27.2505\n",
      "kimura fixation time: 154.0194\n"
     ]
    }
   ],
   "source": [
    "def wf_fix_time_with_err(results):\n",
    "    is_fixed,times = results\n",
    "    fixation_gens = times[is_fixed]\n",
    "    fixation_gen_mean = fixation_gens.mean()\n",
    "    fixation_conf = st.t.interval(0.95, len(fixation_gens)-1, loc=fixation_gen_mean, scale=st.sem(fixation_gens))\n",
    "    fixation_gen_err = (fixation_conf[1] - fixation_conf[0])/2\n",
    "    \n",
    "    return fixation_gen_mean,fixation_gen_err\n",
    "    \n",
    "\n",
    "\n",
    "def wf_fix_time_sim(n0, N, s, repetitions=10):\n",
    "    N = int(N)\n",
    "    n = np.repeat(n0, repetitions)\n",
    "    T = np.repeat(np.inf, repetitions)\n",
    "    \n",
    "    t = 0\n",
    "    n[:] = n0\n",
    "    update = (n > 0) & (n < N)\n",
    "    while update.any():        \n",
    "        p = n * (1 + s) / (N + n * s)\n",
    "        n[update] = np.random.binomial(N, p[update])\n",
    "        update = (n > 0) & (n < N)\n",
    "        t += 1\n",
    "        T[~update] = np.minimum(T[~update], t)\n",
    "    return n == N, T\n",
    "\n",
    "\n",
    "N = effective_population(1000,0.2)\n",
    "s = 1-0.956\n",
    "p0 = 1e-4\n",
    "reps = 10000\n",
    "n0 = p0*N\n",
    "t,t_err = wf_fix_time_with_err(wf_fix_time_sim(n0, N, s, reps))\n",
    "print(f'fixation time and error: {t:.2f}\\t\\t\\t{t_err:.4f}')\n",
    "print(f'kimura fixation time: {T_kimura(n0, N, s):.4f}')"
   ]
  },
  {
   "cell_type": "markdown",
   "metadata": {},
   "source": [
    "## Compare DM vs WF"
   ]
  },
  {
   "cell_type": "markdown",
   "metadata": {},
   "source": [
    "### Variating $\\alpha$"
   ]
  },
  {
   "cell_type": "code",
   "execution_count": 23,
   "metadata": {
    "ExecuteTime": {
     "end_time": "2022-04-04T16:21:30.063391Z",
     "start_time": "2022-04-04T16:16:22.642620Z"
    }
   },
   "outputs": [],
   "source": [
    "alphas = np.linspace(start=1e-4,stop=0.999,num=30)\n",
    "N = 1000\n",
    "p0 = 1e-3\n",
    "A = A_hat*0.7\n",
    "A_ = np.zeros(N)\n",
    "A_[:int(p0*N)] = A_hat\n",
    "A_[A_==0] = A\n",
    "beta = bias(A,J=J,A_hat=A_hat)\n",
    "\n",
    "sim_res_alpha = []\n",
    "for alpha in alphas:\n",
    "    results = dirichlet_model_parallel(A_,binary=True,reps=10000,J=J,alpha=alpha,max_workers=60)\n",
    "\n",
    "    aggregated_results = aggregate_binary_model_with_errors(results,A_hat,len(results))\n",
    "    fixation_prob,fixation_prob_err,fix_time,fix_time_err,_ = aggregated_results\n",
    "    \n",
    "    durr = durret(p0,alpha,beta,N)\n",
    "    \n",
    "    sim_res_alpha.append((fixation_prob,fixation_prob_err,durr,fix_time,fix_time_err))"
   ]
  },
  {
   "cell_type": "code",
   "execution_count": 24,
   "metadata": {
    "ExecuteTime": {
     "end_time": "2022-04-04T16:21:33.853708Z",
     "start_time": "2022-04-04T16:21:30.065393Z"
    }
   },
   "outputs": [
    {
     "name": "stderr",
     "output_type": "stream",
     "text": [
      "/home/medaware/anaconda3/lib/python3.7/site-packages/scipy/stats/_distn_infrastructure.py:2098: RuntimeWarning: invalid value encountered in multiply\n",
      "  lower_bound = _a * scale + loc\n",
      "/home/medaware/anaconda3/lib/python3.7/site-packages/scipy/stats/_distn_infrastructure.py:2099: RuntimeWarning: invalid value encountered in multiply\n",
      "  upper_bound = _b * scale + loc\n"
     ]
    }
   ],
   "source": [
    "wf_res_alpha = []\n",
    "s = 1-beta\n",
    "for alpha in alphas:\n",
    "    Ne = effective_population(N,alpha)\n",
    "    n0 = p0*Ne\n",
    "    p = wf_fix_prob(n0, Ne, s, reps)\n",
    "    p_err = probability_err(p,reps)\n",
    "    t,t_err = wf_fix_time_with_err(wf_fix_time_sim(n0, Ne, s, reps))\n",
    "    kim = T_kimura(n0, Ne, s)\n",
    "    wf_res_alpha.append((p,p_err,t,t_err,kim,Ne))"
   ]
  },
  {
   "cell_type": "code",
   "execution_count": 26,
   "metadata": {
    "ExecuteTime": {
     "end_time": "2022-04-04T16:32:00.950061Z",
     "start_time": "2022-04-04T16:32:00.262660Z"
    }
   },
   "outputs": [
    {
     "data": {
      "image/png": "[encoded data removed]",
      "text/plain": [
       "<Figure size 432x288 with 2 Axes>"
      ]
     },
     "metadata": {
      "needs_background": "light"
     },
     "output_type": "display_data"
    }
   ],
   "source": [
    "Y = [tup[0] for tup in sim_res_alpha]\n",
    "Y_err = [tup[1] for tup in sim_res_alpha]\n",
    "durrs = [tup[2] for tup in sim_res_alpha]\n",
    "\n",
    "Y_wf = [tup[0] for tup in wf_res_alpha]\n",
    "Y_wf_err = [tup[1] for tup in wf_res_alpha]\n",
    "Nes = [tup[-1] for tup in wf_res_alpha]\n",
    "\n",
    "ax1 = plt.gca()\n",
    "ax2 = ax1.twiny()\n",
    "\n",
    "ax1.set_xlabel(r'$\\alpha$')\n",
    "ax2.set_xlabel(r'$Ne=\\alpha N + (1-\\alpha)$')\n",
    "ax1.set_ylabel(r'P_fixation')\n",
    "l1 = ax1.axhline(2*(1-beta), ls='--', label=r'$2(1-\\beta) = 2s$')\n",
    "l2 = ax1.plot(alphas,durrs,label= 'kimura',zorder=2,color='k')\n",
    "l3 = ax1.errorbar(alphas,Y,yerr=Y_err,fmt='o',color='green',markersize=3,zorder=1)\n",
    "l4 = ax2.errorbar(Nes,Y_wf,yerr=Y_wf_err,fmt='o',color='orange',zorder=0,markersize=3);\n",
    "\n",
    "lns = (l1,l2[0],l3[0],l4[0])\n",
    "labs = [l1.get_label(),l2[0].get_label(),'DM simulations','WF simulations']\n",
    "plt.savefig('../figures/fix_prob_var_alpha.pdf')"
   ]
  },
  {
   "cell_type": "code",
   "execution_count": 27,
   "metadata": {
    "ExecuteTime": {
     "end_time": "2022-04-04T16:32:04.359414Z",
     "start_time": "2022-04-04T16:32:03.906416Z"
    }
   },
   "outputs": [
    {
     "data": {
      "image/png": "[encoded data removed]",
      "text/plain": [
       "<Figure size 432x288 with 2 Axes>"
      ]
     },
     "metadata": {
      "needs_background": "light"
     },
     "output_type": "display_data"
    }
   ],
   "source": [
    "Y = [tup[3] for tup in sim_res_alpha]\n",
    "Y_err = [tup[4] for tup in sim_res_alpha]\n",
    "\n",
    "Y_wf = [tup[2] for tup in wf_res_alpha]\n",
    "Y_wf_err = [tup[3] for tup in wf_res_alpha]\n",
    "kims = [tup[4] for tup in wf_res_alpha]\n",
    "\n",
    "ax1 = plt.gca()\n",
    "ax2 = ax1.twiny()\n",
    "\n",
    "ax1.set_xlabel(r'$\\alpha$')\n",
    "ax2.set_xlabel(r'$Ne=\\alpha N + (1-\\alpha)$')\n",
    "ax1.set_ylabel(r'T_fixation')\n",
    "l1 = ax1.plot(alphas,kims,label= 'kimura',zorder=2,color='k')\n",
    "l2 = ax1.errorbar(alphas,Y,yerr=Y_err,fmt='o',color='green',markersize=3,zorder=1)\n",
    "l3 = ax2.errorbar(Nes,Y_wf,yerr=Y_wf_err,fmt='o',color='orange',zorder=0,markersize=3);\n",
    "\n",
    "lns = (l1[0],l2[0],l3[0])\n",
    "labs = [l1[0].get_label(),'DM simulations','WF simulations']\n",
    "plt.savefig('../figures/fix_time_var_alpha.pdf')"
   ]
  },
  {
   "cell_type": "markdown",
   "metadata": {},
   "source": [
    "### Varying $\\beta$"
   ]
  },
  {
   "cell_type": "code",
   "execution_count": 28,
   "metadata": {
    "ExecuteTime": {
     "end_time": "2022-04-04T16:36:30.893794Z",
     "start_time": "2022-04-04T16:32:10.985418Z"
    }
   },
   "outputs": [],
   "source": [
    "trait_modifiers = np.linspace(start=0.01,stop=0.99,num=30)\n",
    "N = 1000\n",
    "alpha = 0.01\n",
    "p0 = 1e-3\n",
    "sim_res_beta = []\n",
    "for mod in trait_modifiers:\n",
    "    A = A_hat*mod\n",
    "    beta = bias(A,J=J,A_hat=A_hat)\n",
    "    \n",
    "    A_ = np.zeros(N)\n",
    "    A_[:int(p0*N)] = A_hat\n",
    "    A_[A_==0] = A\n",
    "    results = dirichlet_model_parallel(A_,binary=True,reps=10000,J=J,alpha=alpha,max_workers=60)\n",
    "\n",
    "    aggregated_results = aggregate_binary_model_with_errors(results,A_hat,len(results))\n",
    "    fixation_prob,fixation_prob_err,fix_time,fix_time_err,_ = aggregated_results\n",
    "    \n",
    "    durr = durret(p0,alpha,beta,N)\n",
    "    \n",
    "    sim_res_beta.append((fixation_prob,fixation_prob_err,durr,fix_time,fix_time_err,beta))"
   ]
  },
  {
   "cell_type": "code",
   "execution_count": 29,
   "metadata": {
    "ExecuteTime": {
     "end_time": "2022-04-04T16:36:31.237698Z",
     "start_time": "2022-04-04T16:36:30.895560Z"
    }
   },
   "outputs": [],
   "source": [
    "neg_betas = 1 - np.array([tup[-1] for tup in sim_res_beta])\n",
    "Ne = effective_population(N,alpha)\n",
    "wf_res_s = []\n",
    "\n",
    "for s in neg_betas:\n",
    "    n0 = p0*Ne\n",
    "    p = wf_fix_prob(n0, Ne, s, reps)\n",
    "    p_err = probability_err(p,reps)\n",
    "    t,t_err = wf_fix_time_with_err(wf_fix_time_sim(n0, Ne, s, reps))\n",
    "    kim = T_kimura(n0, Ne, s)\n",
    "    wf_res_s.append((p,p_err,t,t_err,kim))"
   ]
  },
  {
   "cell_type": "code",
   "execution_count": 30,
   "metadata": {
    "ExecuteTime": {
     "end_time": "2022-04-04T16:36:31.475265Z",
     "start_time": "2022-04-04T16:36:31.239531Z"
    }
   },
   "outputs": [
    {
     "data": {
      "image/png": "[encoded data removed]",
      "text/plain": [
       "<Figure size 432x288 with 1 Axes>"
      ]
     },
     "metadata": {
      "needs_background": "light"
     },
     "output_type": "display_data"
    }
   ],
   "source": [
    "Y = [tup[0] for tup in sim_res_beta]\n",
    "Y_err = [tup[1] for tup in sim_res_beta]\n",
    "durrs = [tup[2] for tup in sim_res_beta]\n",
    "\n",
    "Y_wf = [tup[0] for tup in wf_res_s]\n",
    "Y_wf_err = [tup[1] for tup in wf_res_s]\n",
    "\n",
    "\n",
    "plt.xlabel(r'$1-\\beta$ = s')\n",
    "plt.ylabel(r'P_fixation')\n",
    "plt.plot(neg_betas,durrs,zorder=2,label='kimura',color='k')\n",
    "plt.errorbar(neg_betas,Y,yerr=Y_err,fmt='o',label='DM simulations',zorder=0,markersize=3,color='g');\n",
    "plt.errorbar(neg_betas,Y_wf,yerr=Y_wf_err,fmt='o',label='WF simulations',zorder=1,markersize=3,color='orange');\n",
    "\n",
    "plt.savefig('../figures/fix_prob_var_beta.pdf')"
   ]
  },
  {
   "cell_type": "code",
   "execution_count": 31,
   "metadata": {
    "ExecuteTime": {
     "end_time": "2022-04-04T16:36:31.701076Z",
     "start_time": "2022-04-04T16:36:31.477264Z"
    }
   },
   "outputs": [
    {
     "data": {
      "image/png": "[encoded data removed]",
      "text/plain": [
       "<Figure size 432x288 with 1 Axes>"
      ]
     },
     "metadata": {
      "needs_background": "light"
     },
     "output_type": "display_data"
    }
   ],
   "source": [
    "Y = [tup[3] for tup in sim_res_beta]\n",
    "Y_err = [tup[4] for tup in sim_res_beta]\n",
    "\n",
    "Y_wf = [tup[2] for tup in wf_res_s]\n",
    "Y_wf_err = [tup[3] for tup in wf_res_s]\n",
    "kims = [tup[4] for tup in wf_res_s]\n",
    "\n",
    "\n",
    "plt.xlabel(r'$1-\\beta$ = s')\n",
    "plt.ylabel(r'T_fixation')\n",
    "plt.plot(neg_betas,kims,zorder=2,label='kimura',color='k')\n",
    "plt.errorbar(neg_betas,Y,yerr=Y_err,fmt='o',label='DM simulations',zorder=0,markersize=3,color='g');\n",
    "plt.errorbar(neg_betas,Y_wf,yerr=Y_wf_err,fmt='o',label='WF simulations',zorder=1,markersize=3,color='orange');\n",
    "\n",
    "plt.savefig('../figures/fix_time_var_beta.pdf')"
   ]
  },
  {
   "cell_type": "markdown",
   "metadata": {},
   "source": [
    "## Compare DM vs full model"
   ]
  },
  {
   "cell_type": "code",
   "execution_count": 349,
   "metadata": {
    "ExecuteTime": {
     "end_time": "2022-04-06T12:43:13.278078Z",
     "start_time": "2022-04-06T12:43:13.264378Z"
    },
    "init_cell": true
   },
   "outputs": [],
   "source": [
    "def plot_binary_comparison(x_axis,full_res,dm_res,x_name,log_scale=False,kims=None):\n",
    "    fig, axs = plt.subplot_mosaic(['a)','b)'],figsize=[10,5])\n",
    "    listify = lambda x,i: [y[i] for y in x]\n",
    "    \n",
    "    axs[0].set_ylabel('Fixation probability')\n",
    "    axs[0].set_xlabel(x_name)\n",
    "    l1 = axs[0].errorbar(x_axis,listify(full_res,0),yerr=listify(full_res,1),fmt='-o',alpha=0.5)\n",
    "    l2 = axs[0].errorbar(x_axis,listify(dm_res,0),yerr=listify(dm_res,1),fmt='-*')\n",
    "    l3 = axs[0].axhline(kims[0], color='k')\n",
    "\n",
    "    axs[1].set_ylabel('Fixation time')\n",
    "    axs[1].set_xlabel(x_name)\n",
    "    axs[1].errorbar(x_axis,listify(full_res,2),yerr=listify(full_res,3),fmt='-o',alpha=0.5)\n",
    "    axs[1].errorbar(x_axis,listify(dm_res,2),yerr=listify(dm_res,3),fmt='-*')\n",
    "    axs[1].axhline(kims[1],color='k')\n",
    "    for ax in axs.flat:\n",
    "        if log_scale:\n",
    "            ax.set_xscale('log')\n",
    "\n",
    "    fig.tight_layout()"
   ]
  },
  {
   "cell_type": "markdown",
   "metadata": {},
   "source": [
    "### Number of simulations"
   ]
  },
  {
   "cell_type": "code",
   "execution_count": null,
   "metadata": {
    "ExecuteTime": {
     "start_time": "2022-04-05T12:04:18.039Z"
    }
   },
   "outputs": [],
   "source": [
    "num_reps = np.linspace(100,5000,30)\n",
    "N=1000\n",
    "alpha=0.5\n",
    "A_ = np.zeros(N)\n",
    "J=1\n",
    "A_[0] = A_hat\n",
    "A_[A_==0] = A_hat*0.7\n",
    "beta = bias(A_hat*0.7,J=J)\n",
    "Ne = effective_population(N,alpha)\n",
    "kims = (durret(1e-3,alpha,beta,N),T_kimura(1, Ne, 1-beta))\n",
    "gt_results = []\n",
    "dm_results = []\n",
    "\n",
    "for reps in num_reps:\n",
    "    full_results = gt_binary_model_parallel(A_,reps=reps,J=J,alpha=alpha,max_workers=10)\n",
    "    aggregated_results = aggregate_binary_model_with_errors(full_results,A_hat,len(results))\n",
    "    gt_results.append(aggregated_results)\n",
    "\n",
    "    results = dirichlet_model_parallel(A_,binary=True,reps=reps,J=J,alpha=alpha,max_workers=10)\n",
    "    aggregated_results = aggregate_binary_model_with_errors(results,A_hat,len(results))\n",
    "    dm_results.append(aggregated_results)"
   ]
  },
  {
   "cell_type": "code",
   "execution_count": null,
   "metadata": {
    "ExecuteTime": {
     "start_time": "2022-04-05T12:04:21.563Z"
    }
   },
   "outputs": [],
   "source": [
    "plot_binary_comparison(num_reps,gt_results,dm_results,x_name='Number of simulations',kims=kims)\n",
    "plt.savefig('../figures/num_sims.pdf')"
   ]
  },
  {
   "cell_type": "markdown",
   "metadata": {},
   "source": [
    "### Mutation"
   ]
  },
  {
   "cell_type": "code",
   "execution_count": 362,
   "metadata": {
    "ExecuteTime": {
     "end_time": "2022-04-06T12:57:17.487120Z",
     "start_time": "2022-04-06T12:44:29.822575Z"
    }
   },
   "outputs": [],
   "source": [
    "N=1000\n",
    "alpha=0.1\n",
    "A_ = np.zeros(N)\n",
    "A_[0] = A_hat\n",
    "A_[A_==0] = A_hat*0.7\n",
    "mutations = np.logspace(-7,-1,30)\n",
    "reps = 1000\n",
    "orig_J = 1\n",
    "gt_results = []\n",
    "dm_results = []\n",
    "Ne = effective_population(N,alpha)\n",
    "beta = bias(A_hat*0.7,J=orig_J)\n",
    "kims = (durret(1e-3,alpha,beta,N),T_kimura(1, Ne, 1-beta))\n",
    "for mutation in mutations:\n",
    "    J = np.random.normal(orig_J, scale = mutation, size=len(A_))\n",
    "    \n",
    "    full_results = gt_binary_model_parallel(A_,reps=reps,J=J,alpha=alpha,max_workers=60)\n",
    "    aggregated_results = aggregate_binary_model_with_errors(full_results,A_hat,len(results))\n",
    "    gt_results.append(aggregated_results)\n",
    "\n",
    "    results = dirichlet_model_parallel(A_,binary=True,reps=reps,J=orig_J,alpha=alpha,max_workers=60)\n",
    "    aggregated_results = aggregate_binary_model_with_errors(results,A_hat,len(results))\n",
    "    dm_results.append(aggregated_results)"
   ]
  },
  {
   "cell_type": "code",
   "execution_count": 363,
   "metadata": {
    "ExecuteTime": {
     "end_time": "2022-04-06T12:57:17.512281Z",
     "start_time": "2022-04-06T12:57:17.489224Z"
    }
   },
   "outputs": [
    {
     "ename": "ValueError",
     "evalue": "List layout specification must be 2D",
     "output_type": "error",
     "traceback": [
      "\u001b[0;31m---------------------------------------------------------------------------\u001b[0m",
      "\u001b[0;31mValueError\u001b[0m                                Traceback (most recent call last)",
      "\u001b[0;32m<ipython-input-363-07bc253b9322>\u001b[0m in \u001b[0;36m<module>\u001b[0;34m\u001b[0m\n\u001b[0;32m----> 1\u001b[0;31m \u001b[0mplot_binary_comparison\u001b[0m\u001b[0;34m(\u001b[0m\u001b[0mmutations\u001b[0m\u001b[0;34m,\u001b[0m\u001b[0mgt_results\u001b[0m\u001b[0;34m,\u001b[0m\u001b[0mdm_results\u001b[0m\u001b[0;34m,\u001b[0m\u001b[0mx_name\u001b[0m\u001b[0;34m=\u001b[0m\u001b[0;34m'estimation error variance'\u001b[0m\u001b[0;34m,\u001b[0m\u001b[0mlog_scale\u001b[0m\u001b[0;34m=\u001b[0m\u001b[0;32mTrue\u001b[0m\u001b[0;34m,\u001b[0m\u001b[0mkims\u001b[0m\u001b[0;34m=\u001b[0m\u001b[0mkims\u001b[0m\u001b[0;34m)\u001b[0m\u001b[0;34m\u001b[0m\u001b[0;34m\u001b[0m\u001b[0m\n\u001b[0m\u001b[1;32m      2\u001b[0m \u001b[0mplt\u001b[0m\u001b[0;34m.\u001b[0m\u001b[0msavefig\u001b[0m\u001b[0;34m(\u001b[0m\u001b[0;34m'../figures/full_vs_dm_mutation.pdf'\u001b[0m\u001b[0;34m)\u001b[0m\u001b[0;34m\u001b[0m\u001b[0;34m\u001b[0m\u001b[0m\n",
      "\u001b[0;32m<ipython-input-349-0af0ce4c41ff>\u001b[0m in \u001b[0;36mplot_binary_comparison\u001b[0;34m(x_axis, full_res, dm_res, x_name, log_scale, kims)\u001b[0m\n\u001b[1;32m      1\u001b[0m \u001b[0;32mdef\u001b[0m \u001b[0mplot_binary_comparison\u001b[0m\u001b[0;34m(\u001b[0m\u001b[0mx_axis\u001b[0m\u001b[0;34m,\u001b[0m\u001b[0mfull_res\u001b[0m\u001b[0;34m,\u001b[0m\u001b[0mdm_res\u001b[0m\u001b[0;34m,\u001b[0m\u001b[0mx_name\u001b[0m\u001b[0;34m,\u001b[0m\u001b[0mlog_scale\u001b[0m\u001b[0;34m=\u001b[0m\u001b[0;32mFalse\u001b[0m\u001b[0;34m,\u001b[0m\u001b[0mkims\u001b[0m\u001b[0;34m=\u001b[0m\u001b[0;32mNone\u001b[0m\u001b[0;34m)\u001b[0m\u001b[0;34m:\u001b[0m\u001b[0;34m\u001b[0m\u001b[0;34m\u001b[0m\u001b[0m\n\u001b[0;32m----> 2\u001b[0;31m     \u001b[0mfig\u001b[0m\u001b[0;34m,\u001b[0m \u001b[0maxs\u001b[0m \u001b[0;34m=\u001b[0m \u001b[0mplt\u001b[0m\u001b[0;34m.\u001b[0m\u001b[0msubplot_mosaic\u001b[0m\u001b[0;34m(\u001b[0m\u001b[0;34m[\u001b[0m\u001b[0;34m'a)'\u001b[0m\u001b[0;34m,\u001b[0m\u001b[0;34m'b)'\u001b[0m\u001b[0;34m]\u001b[0m\u001b[0;34m,\u001b[0m\u001b[0mfigsize\u001b[0m\u001b[0;34m=\u001b[0m\u001b[0;34m[\u001b[0m\u001b[0;36m10\u001b[0m\u001b[0;34m,\u001b[0m\u001b[0;36m5\u001b[0m\u001b[0;34m]\u001b[0m\u001b[0;34m)\u001b[0m\u001b[0;34m\u001b[0m\u001b[0;34m\u001b[0m\u001b[0m\n\u001b[0m\u001b[1;32m      3\u001b[0m     \u001b[0mlistify\u001b[0m \u001b[0;34m=\u001b[0m \u001b[0;32mlambda\u001b[0m \u001b[0mx\u001b[0m\u001b[0;34m,\u001b[0m\u001b[0mi\u001b[0m\u001b[0;34m:\u001b[0m \u001b[0;34m[\u001b[0m\u001b[0my\u001b[0m\u001b[0;34m[\u001b[0m\u001b[0mi\u001b[0m\u001b[0;34m]\u001b[0m \u001b[0;32mfor\u001b[0m \u001b[0my\u001b[0m \u001b[0;32min\u001b[0m \u001b[0mx\u001b[0m\u001b[0;34m]\u001b[0m\u001b[0;34m\u001b[0m\u001b[0;34m\u001b[0m\u001b[0m\n\u001b[1;32m      4\u001b[0m \u001b[0;34m\u001b[0m\u001b[0m\n\u001b[1;32m      5\u001b[0m     \u001b[0maxs\u001b[0m\u001b[0;34m[\u001b[0m\u001b[0;36m0\u001b[0m\u001b[0;34m]\u001b[0m\u001b[0;34m.\u001b[0m\u001b[0mset_ylabel\u001b[0m\u001b[0;34m(\u001b[0m\u001b[0;34m'Fixation probability'\u001b[0m\u001b[0;34m)\u001b[0m\u001b[0;34m\u001b[0m\u001b[0;34m\u001b[0m\u001b[0m\n",
      "\u001b[0;32m~/anaconda3/lib/python3.7/site-packages/matplotlib/pyplot.py\u001b[0m in \u001b[0;36msubplot_mosaic\u001b[0;34m(layout, subplot_kw, gridspec_kw, empty_sentinel, **fig_kw)\u001b[0m\n\u001b[1;32m   1368\u001b[0m         \u001b[0msubplot_kw\u001b[0m\u001b[0;34m=\u001b[0m\u001b[0msubplot_kw\u001b[0m\u001b[0;34m,\u001b[0m\u001b[0;34m\u001b[0m\u001b[0;34m\u001b[0m\u001b[0m\n\u001b[1;32m   1369\u001b[0m         \u001b[0mgridspec_kw\u001b[0m\u001b[0;34m=\u001b[0m\u001b[0mgridspec_kw\u001b[0m\u001b[0;34m,\u001b[0m\u001b[0;34m\u001b[0m\u001b[0;34m\u001b[0m\u001b[0m\n\u001b[0;32m-> 1370\u001b[0;31m         \u001b[0mempty_sentinel\u001b[0m\u001b[0;34m=\u001b[0m\u001b[0mempty_sentinel\u001b[0m\u001b[0;34m\u001b[0m\u001b[0;34m\u001b[0m\u001b[0m\n\u001b[0m\u001b[1;32m   1371\u001b[0m     )\n\u001b[1;32m   1372\u001b[0m     \u001b[0;32mreturn\u001b[0m \u001b[0mfig\u001b[0m\u001b[0;34m,\u001b[0m \u001b[0max_dict\u001b[0m\u001b[0;34m\u001b[0m\u001b[0;34m\u001b[0m\u001b[0m\n",
      "\u001b[0;32m~/anaconda3/lib/python3.7/site-packages/matplotlib/figure.py\u001b[0m in \u001b[0;36msubplot_mosaic\u001b[0;34m(self, layout, subplot_kw, gridspec_kw, empty_sentinel)\u001b[0m\n\u001b[1;32m   1715\u001b[0m             \u001b[0;32mreturn\u001b[0m \u001b[0moutput\u001b[0m\u001b[0;34m\u001b[0m\u001b[0;34m\u001b[0m\u001b[0m\n\u001b[1;32m   1716\u001b[0m \u001b[0;34m\u001b[0m\u001b[0m\n\u001b[0;32m-> 1717\u001b[0;31m         \u001b[0mlayout\u001b[0m \u001b[0;34m=\u001b[0m \u001b[0m_make_array\u001b[0m\u001b[0;34m(\u001b[0m\u001b[0mlayout\u001b[0m\u001b[0;34m)\u001b[0m\u001b[0;34m\u001b[0m\u001b[0;34m\u001b[0m\u001b[0m\n\u001b[0m\u001b[1;32m   1718\u001b[0m         \u001b[0mrows\u001b[0m\u001b[0;34m,\u001b[0m \u001b[0mcols\u001b[0m \u001b[0;34m=\u001b[0m \u001b[0mlayout\u001b[0m\u001b[0;34m.\u001b[0m\u001b[0mshape\u001b[0m\u001b[0;34m\u001b[0m\u001b[0;34m\u001b[0m\u001b[0m\n\u001b[1;32m   1719\u001b[0m         \u001b[0mgs\u001b[0m \u001b[0;34m=\u001b[0m \u001b[0mself\u001b[0m\u001b[0;34m.\u001b[0m\u001b[0madd_gridspec\u001b[0m\u001b[0;34m(\u001b[0m\u001b[0mrows\u001b[0m\u001b[0;34m,\u001b[0m \u001b[0mcols\u001b[0m\u001b[0;34m,\u001b[0m \u001b[0;34m**\u001b[0m\u001b[0mgridspec_kw\u001b[0m\u001b[0;34m)\u001b[0m\u001b[0;34m\u001b[0m\u001b[0;34m\u001b[0m\u001b[0m\n",
      "\u001b[0;32m~/anaconda3/lib/python3.7/site-packages/matplotlib/figure.py\u001b[0m in \u001b[0;36m_make_array\u001b[0;34m(inp)\u001b[0m\n\u001b[1;32m   1616\u001b[0m             \u001b[0;32mfor\u001b[0m \u001b[0mj\u001b[0m\u001b[0;34m,\u001b[0m \u001b[0mr\u001b[0m \u001b[0;32min\u001b[0m \u001b[0menumerate\u001b[0m\u001b[0;34m(\u001b[0m\u001b[0mrest\u001b[0m\u001b[0;34m,\u001b[0m \u001b[0mstart\u001b[0m\u001b[0;34m=\u001b[0m\u001b[0;36m1\u001b[0m\u001b[0;34m)\u001b[0m\u001b[0;34m:\u001b[0m\u001b[0;34m\u001b[0m\u001b[0;34m\u001b[0m\u001b[0m\n\u001b[1;32m   1617\u001b[0m                 \u001b[0;32mif\u001b[0m \u001b[0misinstance\u001b[0m\u001b[0;34m(\u001b[0m\u001b[0mr\u001b[0m\u001b[0;34m,\u001b[0m \u001b[0mstr\u001b[0m\u001b[0;34m)\u001b[0m\u001b[0;34m:\u001b[0m\u001b[0;34m\u001b[0m\u001b[0;34m\u001b[0m\u001b[0m\n\u001b[0;32m-> 1618\u001b[0;31m                     \u001b[0;32mraise\u001b[0m \u001b[0mValueError\u001b[0m\u001b[0;34m(\u001b[0m\u001b[0;34m'List layout specification must be 2D'\u001b[0m\u001b[0;34m)\u001b[0m\u001b[0;34m\u001b[0m\u001b[0;34m\u001b[0m\u001b[0m\n\u001b[0m\u001b[1;32m   1619\u001b[0m                 \u001b[0;32mif\u001b[0m \u001b[0mlen\u001b[0m\u001b[0;34m(\u001b[0m\u001b[0mr0\u001b[0m\u001b[0;34m)\u001b[0m \u001b[0;34m!=\u001b[0m \u001b[0mlen\u001b[0m\u001b[0;34m(\u001b[0m\u001b[0mr\u001b[0m\u001b[0;34m)\u001b[0m\u001b[0;34m:\u001b[0m\u001b[0;34m\u001b[0m\u001b[0;34m\u001b[0m\u001b[0m\n\u001b[1;32m   1620\u001b[0m                     raise ValueError(\n",
      "\u001b[0;31mValueError\u001b[0m: List layout specification must be 2D"
     ]
    },
    {
     "data": {
      "text/plain": [
       "<Figure size 720x360 with 0 Axes>"
      ]
     },
     "metadata": {},
     "output_type": "display_data"
    }
   ],
   "source": [
    "plot_binary_comparison(mutations,gt_results,dm_results,x_name='estimation error variance',log_scale=True,kims=kims)\n",
    "plt.savefig('../figures/full_vs_dm_mutation.pdf')"
   ]
  },
  {
   "cell_type": "markdown",
   "metadata": {},
   "source": [
    "### Heterogenous $\\alpha$"
   ]
  },
  {
   "cell_type": "code",
   "execution_count": 37,
   "metadata": {
    "ExecuteTime": {
     "end_time": "2022-04-04T19:27:01.248903Z",
     "start_time": "2022-04-04T17:56:09.612538Z"
    }
   },
   "outputs": [],
   "source": [
    "N=1000\n",
    "alpha=0.5\n",
    "A_ = np.zeros(N)\n",
    "J=1\n",
    "A_[0] = A_hat\n",
    "A_[A_==0] = A_hat*0.7\n",
    "scales = np.logspace(-7,-1,30)\n",
    "reps = 5000\n",
    "Ne = effective_population(N,alpha)\n",
    "beta = bias(A_hat*0.7,J=J)\n",
    "kims = (durret(1e-3,alpha,beta,N),T_kimura(1, Ne, 1-beta))\n",
    "gt_results = []\n",
    "dm_results = []\n",
    "for scale in scales:\n",
    "    normal_alpha = np.random.normal(alpha, scale = scale, size=len(A_))\n",
    "    \n",
    "    full_results = gt_binary_model_parallel(A_,reps=reps,J=J,alpha=alpha,max_workers=60)\n",
    "    aggregated_results = aggregate_binary_model_with_errors(full_results,A_hat,len(results))\n",
    "    gt_results.append(aggregated_results)\n",
    "\n",
    "    results = dirichlet_model_parallel(A_,binary=True,reps=reps,J=J,alpha=alpha,max_workers=60)\n",
    "    aggregated_results = aggregate_binary_model_with_errors(results,A_hat,len(results))\n",
    "    dm_results.append(aggregated_results)"
   ]
  },
  {
   "cell_type": "code",
   "execution_count": 38,
   "metadata": {
    "ExecuteTime": {
     "end_time": "2022-04-04T19:27:02.617738Z",
     "start_time": "2022-04-04T19:27:01.250555Z"
    }
   },
   "outputs": [
    {
     "data": {
      "image/png": "[encoded data removed]",
      "text/plain": [
       "<Figure size 720x360 with 2 Axes>"
      ]
     },
     "metadata": {
      "needs_background": "light"
     },
     "output_type": "display_data"
    }
   ],
   "source": [
    "plot_binary_comparison(scales,gt_results,dm_results,x_name=r'$\\alpha$ scale',log_scale=True,kims=kims)\n",
    "plt.savefig('../figures/full_vs_dm_changing_alpha.pdf')"
   ]
  },
  {
   "cell_type": "markdown",
   "metadata": {},
   "source": [
    "## Changing environment"
   ]
  },
  {
   "cell_type": "code",
   "execution_count": 39,
   "metadata": {
    "ExecuteTime": {
     "end_time": "2022-04-04T19:27:11.287987Z",
     "start_time": "2022-04-04T19:27:02.619266Z"
    }
   },
   "outputs": [
    {
     "name": "stdout",
     "output_type": "stream",
     "text": [
      "s_n:-0.0030\n",
      "beta:0.9950\n",
      "Ne:100.9\n",
      "envch fix prob: 0.0007285\n",
      "const fix prob: 0.001585\n",
      "envch fix time: 199.8\n",
      "const fix time: 198\n",
      "fixation probability and estimated error: 0.0005 \t 0.0008763\n",
      "fixation time and estimated error:168.8 \t 144.4\n"
     ]
    }
   ],
   "source": [
    "N = 1000\n",
    "p0 = 1/N\n",
    "A = A_hat*0.9\n",
    "alpha = 0.1\n",
    "J=1\n",
    "A_ = np.zeros(N)\n",
    "A_[0] = A_hat\n",
    "A_[1:] = A\n",
    "beta = bias(A, J=J, A_hat=A_hat)\n",
    "k,l=20,80\n",
    "s_n = ((k-l)/(k+l))*(1-beta)\n",
    "Ne = effective_population(N, alpha)\n",
    "\n",
    "print(fr's_n:{s_n:.4f}')\n",
    "print(f'beta:{beta:.4f}')\n",
    "print(f'Ne:{Ne}')\n",
    "print(f'envch fix prob: {durret_change_env(p0,alpha,s_n,N):.4g}')\n",
    "print(f'const fix prob: {durret(p0,alpha,beta,N):.4g}')\n",
    "print(f'envch fix time: {T_kimura(p0*N,Ne,s_n):.4g}')\n",
    "print(f'const fix time: {T_kimura(p0*N,Ne,1-beta):.4g}')\n",
    "\n",
    "results = dirichlet_model_parallel(A_,reps=10000,binary=True,J=J,alpha=alpha,max_workers=30,k=k,l=l)\n",
    "\n",
    "aggregated_results = aggregate_binary_model_with_errors(results,A_hat,len(results))\n",
    "fixation_prob,fixation_prob_err,fixation_gen_mean,fixation_gen_err,growth_rate = aggregated_results\n",
    "\n",
    "print(f'fixation probability and estimated error: {fixation_prob:.4g} \\t {fixation_prob_err:.4g}')\n",
    "print(f'fixation time and estimated error:{fixation_gen_mean:.4g} \\t {fixation_gen_err:.4g}')\n"
   ]
  },
  {
   "cell_type": "markdown",
   "metadata": {},
   "source": [
    "### Variating $\\alpha$"
   ]
  },
  {
   "cell_type": "code",
   "execution_count": 40,
   "metadata": {
    "ExecuteTime": {
     "end_time": "2022-04-04T19:31:44.637338Z",
     "start_time": "2022-04-04T19:27:11.289659Z"
    }
   },
   "outputs": [
    {
     "name": "stderr",
     "output_type": "stream",
     "text": [
      "/home/medaware/anaconda3/lib/python3.7/site-packages/numpy/core/_methods.py:140: RuntimeWarning: Degrees of freedom <= 0 for slice\n",
      "  keepdims=keepdims)\n",
      "/home/medaware/anaconda3/lib/python3.7/site-packages/numpy/core/_methods.py:132: RuntimeWarning: invalid value encountered in double_scalars\n",
      "  ret = ret.dtype.type(ret / rcount)\n"
     ]
    }
   ],
   "source": [
    "alphas = np.linspace(start=1e-4,stop=0.999,num=30)\n",
    "\n",
    "\n",
    "N = 1000\n",
    "p0 = 1/N\n",
    "A = A_hat*0.9\n",
    "J=1\n",
    "A_ = np.zeros(N)\n",
    "A_[0] = A_hat\n",
    "A_[1:] = A\n",
    "beta = bias(A, J=J, A_hat=A_hat)\n",
    "k,l=30,80\n",
    "s_n = ((k-l)/(k+l))*(1-beta)\n",
    "\n",
    "sim_res_alpha = []\n",
    "for alpha in alphas:\n",
    "    ch_res = durret_change_env(p0,alpha,s_n,N)\n",
    "    const_res = durret(p0,alpha,beta,N)\n",
    "    results = dirichlet_model_parallel(A_,reps=10000,binary=True,J=J,alpha=alpha,max_workers=30,k=k,l=l)\n",
    "\n",
    "    aggregated_results = aggregate_binary_model_with_errors(results,A_hat,len(results))\n",
    "    fixation_prob,prob_err,*_ = aggregated_results\n",
    "    \n",
    "    sim_res_alpha.append((ch_res,fixation_prob,prob_err,const_res))\n",
    "    \n",
    "sim_res_alpha = np.array(sim_res_alpha)\n",
    "Ne = effective_population(N, alphas)"
   ]
  },
  {
   "cell_type": "code",
   "execution_count": 41,
   "metadata": {
    "ExecuteTime": {
     "end_time": "2022-04-04T19:31:44.907706Z",
     "start_time": "2022-04-04T19:31:44.639063Z"
    }
   },
   "outputs": [
    {
     "data": {
      "image/png": "[encoded data removed]",
      "text/plain": [
       "<Figure size 432x288 with 1 Axes>"
      ]
     },
     "metadata": {
      "needs_background": "light"
     },
     "output_type": "display_data"
    }
   ],
   "source": [
    "plt.plot(Ne,sim_res_alpha[:,0],label='changing env')\n",
    "plt.errorbar(Ne,sim_res_alpha[:,1],yerr=sim_res_alpha[:,2],fmt='o',markersize=3,label='simulations')\n",
    "plt.plot(Ne,sim_res_alpha[:,3],label='constant env')\n",
    "plt.xlabel(r'$Ne=\\alpha N + (1-\\alpha)$')\n",
    "plt.ylabel(r'P_fixation')\n",
    "plt.savefig('../figures/ch_env_var_alpha.pdf');"
   ]
  },
  {
   "cell_type": "markdown",
   "metadata": {},
   "source": [
    "### Variating $\\beta$"
   ]
  },
  {
   "cell_type": "code",
   "execution_count": 42,
   "metadata": {
    "ExecuteTime": {
     "end_time": "2022-04-04T19:36:07.322865Z",
     "start_time": "2022-04-04T19:31:44.909148Z"
    }
   },
   "outputs": [
    {
     "name": "stderr",
     "output_type": "stream",
     "text": [
      "/home/medaware/anaconda3/lib/python3.7/site-packages/numpy/core/_methods.py:140: RuntimeWarning: Degrees of freedom <= 0 for slice\n",
      "  keepdims=keepdims)\n",
      "/home/medaware/anaconda3/lib/python3.7/site-packages/numpy/core/_methods.py:132: RuntimeWarning: invalid value encountered in double_scalars\n",
      "  ret = ret.dtype.type(ret / rcount)\n"
     ]
    }
   ],
   "source": [
    "trait_modifiers = np.linspace(start=0.01,stop=0.99,num=30)\n",
    "\n",
    "\n",
    "N = 1000\n",
    "p0 = 1/N\n",
    "J=1\n",
    "A_ = np.zeros(N)\n",
    "alpha = 0.1\n",
    "k,l=30,80\n",
    "\n",
    "sim_res_beta = []\n",
    "for mod in trait_modifiers:\n",
    "    A = A_hat*mod\n",
    "    A_[0] = A_hat\n",
    "    A_[1:] = A\n",
    "    beta = bias(A,J=J,A_hat=A_hat)\n",
    "    s_n = ((k-l)/(k+l))*(1-beta)\n",
    "    \n",
    "    ch_res = durret_change_env(p0,alpha,s_n,N)\n",
    "    const_res = durret(p0,alpha,beta,N)\n",
    "    results = dirichlet_model_parallel(A_,reps=10000,binary=True,J=J,alpha=alpha,max_workers=30,k=k,l=l)\n",
    "\n",
    "    aggregated_results = aggregate_binary_model_with_errors(results,A_hat,len(results))\n",
    "    fixation_prob,prob_err,*_ = aggregated_results\n",
    "    \n",
    "    sim_res_beta.append((ch_res,fixation_prob,prob_err,const_res,1-beta))\n",
    "    \n",
    "sim_res_beta = np.array(sim_res_beta)"
   ]
  },
  {
   "cell_type": "code",
   "execution_count": 43,
   "metadata": {
    "ExecuteTime": {
     "end_time": "2022-04-04T19:36:07.542552Z",
     "start_time": "2022-04-04T19:36:07.324810Z"
    }
   },
   "outputs": [
    {
     "data": {
      "image/png": "[encoded data removed]",
      "text/plain": [
       "<Figure size 432x288 with 1 Axes>"
      ]
     },
     "metadata": {
      "needs_background": "light"
     },
     "output_type": "display_data"
    }
   ],
   "source": [
    "plt.plot(sim_res_beta[:,-1],sim_res_beta[:,0],label='changing env')\n",
    "plt.errorbar(sim_res_beta[:,-1],sim_res_beta[:,1],yerr=sim_res_beta[:,2],fmt='o',markersize=3,label='simulations')\n",
    "plt.plot(sim_res_beta[:,-1],sim_res_beta[:,3],label='constant env')\n",
    "plt.xlabel(r'$s=(1-\\beta)$')\n",
    "plt.ylabel(r'P_fixation')\n",
    "plt.savefig('../figures/ch_env_var_beta.pdf');"
   ]
  },
  {
   "cell_type": "markdown",
   "metadata": {},
   "source": [
    "### Variating $k,l$"
   ]
  },
  {
   "cell_type": "code",
   "execution_count": 44,
   "metadata": {
    "ExecuteTime": {
     "end_time": "2022-04-04T19:39:00.928792Z",
     "start_time": "2022-04-04T19:36:07.544122Z"
    }
   },
   "outputs": [
    {
     "name": "stderr",
     "output_type": "stream",
     "text": [
      "/home/medaware/anaconda3/lib/python3.7/site-packages/numpy/core/_methods.py:140: RuntimeWarning: Degrees of freedom <= 0 for slice\n",
      "  keepdims=keepdims)\n",
      "/home/medaware/anaconda3/lib/python3.7/site-packages/numpy/core/_methods.py:132: RuntimeWarning: invalid value encountered in double_scalars\n",
      "  ret = ret.dtype.type(ret / rcount)\n"
     ]
    }
   ],
   "source": [
    "n=40\n",
    "ks = np.arange(1,n,2)\n",
    "\n",
    "N = 1000\n",
    "p0 = 1/N\n",
    "A = A_hat*0.8\n",
    "J=1\n",
    "A_ = np.zeros(N)\n",
    "A_[0] = A_hat\n",
    "A_[1:] = A\n",
    "beta = bias(A, J=J, A_hat=A_hat)\n",
    "alpha=0.1\n",
    "\n",
    "\n",
    "sim_res_k_l = []\n",
    "for k in ks:\n",
    "    l = n-k\n",
    "    if k==l:\n",
    "        continue\n",
    "    \n",
    "    s_n = ((k-l)/n)*(1-beta)\n",
    "    \n",
    "    ch_res = durret_change_env(p0,alpha,s_n,N)\n",
    "    const_res = durret(p0,alpha,beta,N)\n",
    "    results = dirichlet_model_parallel(A_,reps=10000,binary=True,J=J,alpha=alpha,max_workers=30,k=k,l=l)\n",
    "\n",
    "    aggregated_results = aggregate_binary_model_with_errors(results,A_hat,len(results))\n",
    "    fixation_prob,prob_err,*_ = aggregated_results\n",
    "    \n",
    "    sim_res_k_l.append((ch_res,fixation_prob,prob_err,const_res,k-l))\n",
    "    \n",
    "sim_res_k_l = np.array(sim_res_k_l)"
   ]
  },
  {
   "cell_type": "code",
   "execution_count": 45,
   "metadata": {
    "ExecuteTime": {
     "end_time": "2022-04-04T19:39:01.143550Z",
     "start_time": "2022-04-04T19:39:00.930439Z"
    }
   },
   "outputs": [
    {
     "data": {
      "image/png": "[encoded data removed]",
      "text/plain": [
       "<Figure size 432x288 with 1 Axes>"
      ]
     },
     "metadata": {
      "needs_background": "light"
     },
     "output_type": "display_data"
    }
   ],
   "source": [
    "plt.plot(sim_res_k_l[:,-1],sim_res_k_l[:,0],label='changing env')\n",
    "plt.errorbar(sim_res_k_l[:,-1],sim_res_k_l[:,1],yerr=sim_res_k_l[:,2],fmt='o',markersize=3,label='simulations')\n",
    "plt.plot(sim_res_k_l[:,-1],sim_res_k_l[:,3],label='constant env')\n",
    "plt.xlabel(r'$k-l$')\n",
    "plt.ylabel(r'P_fixation')\n",
    "plt.savefig('../figures/ch_env_var_k_min_l.pdf');"
   ]
  },
  {
   "cell_type": "code",
   "execution_count": 46,
   "metadata": {
    "ExecuteTime": {
     "end_time": "2022-04-04T19:39:01.588622Z",
     "start_time": "2022-04-04T19:39:01.144990Z"
    }
   },
   "outputs": [
    {
     "data": {
      "image/png": "[encoded data removed]",
      "text/plain": [
       "<Figure size 432x288 with 1 Axes>"
      ]
     },
     "metadata": {
      "needs_background": "light"
     },
     "output_type": "display_data"
    }
   ],
   "source": [
    "ls = n-ks\n",
    "x = ks/ls\n",
    "x = x[x!=1]\n",
    "plt.plot(x,sim_res_k_l[:,0],label='changing env')\n",
    "plt.errorbar(x,sim_res_k_l[:,1],yerr=sim_res_k_l[:,2],fmt='o',markersize=3,label='simulations')\n",
    "plt.plot(x,sim_res_k_l[:,3],label='constant env')\n",
    "plt.xscale('log')\n",
    "plt.xlabel(r'$k/l$')\n",
    "plt.ylabel(r'P_fixation')\n",
    "plt.savefig('../figures/ch_env_var_k_div_l.pdf');"
   ]
  }
 ],
 "metadata": {
  "celltoolbar": "Initialization Cell",
  "kernelspec": {
   "display_name": "Python 3",
   "language": "python",
   "name": "python3"
  },
  "language_info": {
   "codemirror_mode": {
    "name": "ipython",
    "version": 3
   },
   "file_extension": ".py",
   "mimetype": "text/x-python",
   "name": "python",
   "nbconvert_exporter": "python",
   "pygments_lexer": "ipython3",
   "version": "3.7.9"
  },
  "latex_envs": {
   "LaTeX_envs_menu_present": true,
   "autoclose": true,
   "autocomplete": true,
   "bibliofile": "biblio.bib",
   "cite_by": "apalike",
   "current_citInitial": 1,
   "eqLabelWithNumbers": true,
   "eqNumInitial": 1,
   "hotkeys": {
    "equation": "Ctrl-E",
    "itemize": "Ctrl-I"
   },
   "labels_anchors": false,
   "latex_user_defs": false,
   "report_style_numbering": false,
   "user_envs_cfg": false
  },
  "toc": {
   "base_numbering": 1,
   "nav_menu": {},
   "number_sections": true,
   "sideBar": true,
   "skip_h1_title": false,
   "title_cell": "Table of Contents",
   "title_sidebar": "Contents",
   "toc_cell": false,
   "toc_position": {
    "height": "calc(100% - 180px)",
    "left": "10px",
    "top": "150px",
    "width": "318.991px"
   },
   "toc_section_display": true,
   "toc_window_display": true
  }
 },
 "nbformat": 4,
 "nbformat_minor": 4
}
